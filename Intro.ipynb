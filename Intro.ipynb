{
 "cells": [
  {
   "cell_type": "markdown",
   "metadata": {},
   "source": [
    "# Introducton"
   ]
  },
  {
   "cell_type": "markdown",
   "metadata": {},
   "source": [
    "### Background discussion"
   ]
  },
  {
   "cell_type": "markdown",
   "metadata": {},
   "source": [
    "Indian Students going to persue Masters Degree at a College in Abroad(London). So this problem belongs to all those students who want to go abroad for higher studies ,getting the cheapest house in the city where he/she gets all kinds of restaurants ,fast-food chains in vicinity which are the cheapest in city and does not want to waste time on cooking rather than focus on studies and part-time jobs. In our scenario, we will be exploring the cheapest houses in London near the cheapest and many fast-food chains. We will recommend the perfect place with all the desired and required facilities."
   ]
  },
  {
   "cell_type": "markdown",
   "metadata": {},
   "source": [
    "### Business discussion\n"
   ]
  },
  {
   "cell_type": "markdown",
   "metadata": {},
   "source": [
    "Having spent money on tution fees , travel & shopping. As a data scientist we will do a cluster of London neighborhoods to get the venues with the best prices and we will be looking for cheap nearby fast-food chains.With the help of Foursquare-Api, which provides most updated data regarding the places to visit , food junctions , daily needs availability will help providing a detailed view of the luxuries and facilities present in London. The use of Foursquare will simplify the huge task of viewing and extracting useful information."
   ]
  },
  {
   "cell_type": "code",
   "execution_count": null,
   "metadata": {},
   "outputs": [],
   "source": []
  }
 ],
 "metadata": {
  "kernelspec": {
   "display_name": "Python 3",
   "language": "python",
   "name": "python3"
  },
  "language_info": {
   "codemirror_mode": {
    "name": "ipython",
    "version": 3
   },
   "file_extension": ".py",
   "mimetype": "text/x-python",
   "name": "python",
   "nbconvert_exporter": "python",
   "pygments_lexer": "ipython3",
   "version": "3.8.3"
  }
 },
 "nbformat": 4,
 "nbformat_minor": 4
}
